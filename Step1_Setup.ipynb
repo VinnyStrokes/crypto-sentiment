{
  "nbformat": 4,
  "nbformat_minor": 0,
  "metadata": {
    "colab": {
      "provenance": [],
      "authorship_tag": "ABX9TyM/21Ailf8qEnQvR6HCILxC",
      "include_colab_link": true
    },
    "kernelspec": {
      "name": "python3",
      "display_name": "Python 3"
    },
    "language_info": {
      "name": "python"
    }
  },
  "cells": [
    {
      "cell_type": "markdown",
      "metadata": {
        "id": "view-in-github",
        "colab_type": "text"
      },
      "source": [
        "<a href=\"https://colab.research.google.com/github/VinnyStrokes/crypto-sentiment/blob/main/Step1_Setup.ipynb\" target=\"_parent\"><img src=\"https://colab.research.google.com/assets/colab-badge.svg\" alt=\"Open In Colab\"/></a>"
      ]
    },
    {
      "cell_type": "code",
      "execution_count": 4,
      "metadata": {
        "colab": {
          "base_uri": "https://localhost:8080/"
        },
        "id": "2ks1P8tf75nH",
        "outputId": "8f73361e-765b-4baa-a6e3-e19736942597"
      },
      "outputs": [
        {
          "output_type": "stream",
          "name": "stdout",
          "text": [
            "🚀 Crypto Sentiment \n"
          ]
        }
      ],
      "source": [
        "print(\"🚀 Crypto Sentiment \")"
      ]
    },
    {
      "cell_type": "code",
      "source": [
        "!pip install tweepy pandas\n",
        "\n",
        "import tweepy\n",
        "import pandas as pd\n",
        "import os\n",
        "import getpass\n"
      ],
      "metadata": {
        "colab": {
          "base_uri": "https://localhost:8080/"
        },
        "id": "W8mYOcKzfCxv",
        "outputId": "6d83e3fa-aaf5-4823-cbea-0970a77987d3"
      },
      "execution_count": 1,
      "outputs": [
        {
          "output_type": "stream",
          "name": "stdout",
          "text": [
            "Requirement already satisfied: tweepy in /usr/local/lib/python3.11/dist-packages (4.15.0)\n",
            "Requirement already satisfied: pandas in /usr/local/lib/python3.11/dist-packages (2.2.2)\n",
            "Requirement already satisfied: oauthlib<4,>=3.2.0 in /usr/local/lib/python3.11/dist-packages (from tweepy) (3.2.2)\n",
            "Requirement already satisfied: requests<3,>=2.27.0 in /usr/local/lib/python3.11/dist-packages (from tweepy) (2.32.3)\n",
            "Requirement already satisfied: requests-oauthlib<3,>=1.2.0 in /usr/local/lib/python3.11/dist-packages (from tweepy) (2.0.0)\n",
            "Requirement already satisfied: numpy>=1.23.2 in /usr/local/lib/python3.11/dist-packages (from pandas) (2.0.2)\n",
            "Requirement already satisfied: python-dateutil>=2.8.2 in /usr/local/lib/python3.11/dist-packages (from pandas) (2.9.0.post0)\n",
            "Requirement already satisfied: pytz>=2020.1 in /usr/local/lib/python3.11/dist-packages (from pandas) (2025.2)\n",
            "Requirement already satisfied: tzdata>=2022.7 in /usr/local/lib/python3.11/dist-packages (from pandas) (2025.2)\n",
            "Requirement already satisfied: six>=1.5 in /usr/local/lib/python3.11/dist-packages (from python-dateutil>=2.8.2->pandas) (1.17.0)\n",
            "Requirement already satisfied: charset-normalizer<4,>=2 in /usr/local/lib/python3.11/dist-packages (from requests<3,>=2.27.0->tweepy) (3.4.2)\n",
            "Requirement already satisfied: idna<4,>=2.5 in /usr/local/lib/python3.11/dist-packages (from requests<3,>=2.27.0->tweepy) (3.10)\n",
            "Requirement already satisfied: urllib3<3,>=1.21.1 in /usr/local/lib/python3.11/dist-packages (from requests<3,>=2.27.0->tweepy) (2.4.0)\n",
            "Requirement already satisfied: certifi>=2017.4.17 in /usr/local/lib/python3.11/dist-packages (from requests<3,>=2.27.0->tweepy) (2025.4.26)\n"
          ]
        }
      ]
    },
    {
      "cell_type": "code",
      "source": [
        "# Store your token without exposing it in the notebook\n",
        "os.environ['BEARER_TOKEN'] = getpass.getpass(\"Paste your Twitter Bearer Token here: \")\n"
      ],
      "metadata": {
        "colab": {
          "base_uri": "https://localhost:8080/"
        },
        "id": "IiB0UhBifFAo",
        "outputId": "2ead984f-a0f0-42d7-a10f-f3ee40a6002c"
      },
      "execution_count": 2,
      "outputs": [
        {
          "name": "stdout",
          "output_type": "stream",
          "text": [
            "Paste your Twitter Bearer Token here: ··········\n"
          ]
        }
      ]
    },
    {
      "cell_type": "code",
      "source": [
        "# Create the Tweepy client using the secure bearer token\n",
        "client = tweepy.Client(bearer_token=os.environ['BEARER_TOKEN'])\n"
      ],
      "metadata": {
        "id": "9Z-Y_Fo9fJLW"
      },
      "execution_count": 3,
      "outputs": []
    },
    {
      "cell_type": "code",
      "source": [
        "kol_usernames = [\n",
        "    \"TheMoonCarl\",     # permabull\n",
        "    \"CryptoBanter\",    # bullish\n",
        "    \"CryptoBusy\",      # bullish\n",
        "    \"Bitfinexed\",      # bearish\n",
        "    \"CasPiancey\",      # bearish\n",
        "    \"WuBlockchain\",    # neutral\n",
        "    \"100trillionUSD\"   # macro-focused\n",
        "    \"GoingParabolic\"   # bullish\n",
        "    \"jasonpizzino\"     # bearish\n",
        "    \"CryptoCapo_\"      # bearish\n",
        "    \"gandalfcryptto\"   # bullish\n",
        "    \"ZssBecker\"        # bullish\n",
        "    \"JRNYcrypto\"       # bullish\n",
        "]\n"
      ],
      "metadata": {
        "id": "_lbSLG-LfVLi"
      },
      "execution_count": 4,
      "outputs": []
    },
    {
      "cell_type": "code",
      "source": [
        "kol_tweets = []\n",
        "\n",
        "# Use only 1 request per user (13 total)\n",
        "for username in kol_usernames:\n",
        "    try:\n",
        "        user = client.get_user(username=username)\n",
        "        user_id = user.data.id\n",
        "\n",
        "        # Pull just 1 tweet per user\n",
        "        tweets = client.get_users_tweets(id=user_id, max_results=1)\n",
        "\n",
        "        if tweets.data:\n",
        "            tweet = tweets.data[0]\n",
        "            kol_tweets.append({\n",
        "                \"username\": username,\n",
        "                \"tweet_id\": tweet.id,\n",
        "                \"tweet_text\": tweet.text\n",
        "            })\n",
        "\n",
        "            print(f\"{username} - Tweet ID: {tweet.id}\")\n",
        "            print(tweet.text)\n",
        "            print(\"---\")\n",
        "        else:\n",
        "            print(f\"{username} has no recent tweets.\")\n",
        "    except Exception as e:\n",
        "        print(f\"Error with {username}: {e}\")\n"
      ],
      "metadata": {
        "colab": {
          "base_uri": "https://localhost:8080/"
        },
        "id": "_Hc0ATSXhGER",
        "outputId": "1ea2c41b-ab71-4acf-c79a-ad2d77bc38ee"
      },
      "execution_count": 6,
      "outputs": [
        {
          "output_type": "stream",
          "name": "stdout",
          "text": [
            "Error with TheMoonCarl: 429 Too Many Requests\n",
            "Too Many Requests\n",
            "Error with CryptoBanter: 429 Too Many Requests\n",
            "Too Many Requests\n",
            "Error with CryptoBusy: 429 Too Many Requests\n",
            "Too Many Requests\n",
            "Error with Bitfinexed: 429 Too Many Requests\n",
            "Too Many Requests\n",
            "Error with CasPiancey: 429 Too Many Requests\n",
            "Too Many Requests\n",
            "Error with WuBlockchain: 429 Too Many Requests\n",
            "Too Many Requests\n",
            "Error with 100trillionUSDGoingParabolicjasonpizzinoCryptoCapo_gandalfcrypttoZssBeckerJRNYcrypto: 429 Too Many Requests\n",
            "Too Many Requests\n"
          ]
        }
      ]
    },
    {
      "cell_type": "code",
      "source": [
        "replies = []\n",
        "\n",
        "for item in kol_tweets:\n",
        "    try:\n",
        "        tweet_id = item['tweet_id']\n",
        "        username = item['username']\n",
        "\n",
        "        query = f\"conversation_id:{tweet_id} -from:{username}\"  # Get replies to the tweet, exclude original poster\n",
        "\n",
        "        response = client.search_recent_tweets(query=query, max_results=100, tweet_fields=[\"author_id\", \"created_at\", \"text\", \"public_metrics\"])\n",
        "\n",
        "        if response.data:\n",
        "            for reply in response.data:\n",
        "                replies.append({\n",
        "                    \"replied_to\": username,\n",
        "                    \"reply_text\": reply.text,\n",
        "                    \"likes\": reply.public_metrics[\"like_count\"],\n",
        "                    \"retweets\": reply.public_metrics[\"retweet_count\"],\n",
        "                    \"created_at\": reply.created_at\n",
        "                })\n",
        "    except Exception as e:\n",
        "        print(f\"Error fetching replies for {username}: {e}\")\n"
      ],
      "metadata": {
        "id": "frtrn7HUhlJc"
      },
      "execution_count": 9,
      "outputs": []
    },
    {
      "cell_type": "code",
      "source": [
        "df = pd.DataFrame(replies)\n",
        "df.head()\n"
      ],
      "metadata": {
        "colab": {
          "base_uri": "https://localhost:8080/",
          "height": 139
        },
        "id": "Mycuo2Qmh1Oz",
        "outputId": "e69e71da-65e4-44fa-f0b5-6ecad016c0b8"
      },
      "execution_count": 8,
      "outputs": [
        {
          "output_type": "execute_result",
          "data": {
            "text/plain": [
              "Empty DataFrame\n",
              "Columns: []\n",
              "Index: []"
            ],
            "text/html": [
              "\n",
              "  <div id=\"df-9be7341c-db5f-426c-9e9f-94bab8b18417\" class=\"colab-df-container\">\n",
              "    <div>\n",
              "<style scoped>\n",
              "    .dataframe tbody tr th:only-of-type {\n",
              "        vertical-align: middle;\n",
              "    }\n",
              "\n",
              "    .dataframe tbody tr th {\n",
              "        vertical-align: top;\n",
              "    }\n",
              "\n",
              "    .dataframe thead th {\n",
              "        text-align: right;\n",
              "    }\n",
              "</style>\n",
              "<table border=\"1\" class=\"dataframe\">\n",
              "  <thead>\n",
              "    <tr style=\"text-align: right;\">\n",
              "      <th></th>\n",
              "    </tr>\n",
              "  </thead>\n",
              "  <tbody>\n",
              "  </tbody>\n",
              "</table>\n",
              "</div>\n",
              "    <div class=\"colab-df-buttons\">\n",
              "\n",
              "  <div class=\"colab-df-container\">\n",
              "    <button class=\"colab-df-convert\" onclick=\"convertToInteractive('df-9be7341c-db5f-426c-9e9f-94bab8b18417')\"\n",
              "            title=\"Convert this dataframe to an interactive table.\"\n",
              "            style=\"display:none;\">\n",
              "\n",
              "  <svg xmlns=\"http://www.w3.org/2000/svg\" height=\"24px\" viewBox=\"0 -960 960 960\">\n",
              "    <path d=\"M120-120v-720h720v720H120Zm60-500h600v-160H180v160Zm220 220h160v-160H400v160Zm0 220h160v-160H400v160ZM180-400h160v-160H180v160Zm440 0h160v-160H620v160ZM180-180h160v-160H180v160Zm440 0h160v-160H620v160Z\"/>\n",
              "  </svg>\n",
              "    </button>\n",
              "\n",
              "  <style>\n",
              "    .colab-df-container {\n",
              "      display:flex;\n",
              "      gap: 12px;\n",
              "    }\n",
              "\n",
              "    .colab-df-convert {\n",
              "      background-color: #E8F0FE;\n",
              "      border: none;\n",
              "      border-radius: 50%;\n",
              "      cursor: pointer;\n",
              "      display: none;\n",
              "      fill: #1967D2;\n",
              "      height: 32px;\n",
              "      padding: 0 0 0 0;\n",
              "      width: 32px;\n",
              "    }\n",
              "\n",
              "    .colab-df-convert:hover {\n",
              "      background-color: #E2EBFA;\n",
              "      box-shadow: 0px 1px 2px rgba(60, 64, 67, 0.3), 0px 1px 3px 1px rgba(60, 64, 67, 0.15);\n",
              "      fill: #174EA6;\n",
              "    }\n",
              "\n",
              "    .colab-df-buttons div {\n",
              "      margin-bottom: 4px;\n",
              "    }\n",
              "\n",
              "    [theme=dark] .colab-df-convert {\n",
              "      background-color: #3B4455;\n",
              "      fill: #D2E3FC;\n",
              "    }\n",
              "\n",
              "    [theme=dark] .colab-df-convert:hover {\n",
              "      background-color: #434B5C;\n",
              "      box-shadow: 0px 1px 3px 1px rgba(0, 0, 0, 0.15);\n",
              "      filter: drop-shadow(0px 1px 2px rgba(0, 0, 0, 0.3));\n",
              "      fill: #FFFFFF;\n",
              "    }\n",
              "  </style>\n",
              "\n",
              "    <script>\n",
              "      const buttonEl =\n",
              "        document.querySelector('#df-9be7341c-db5f-426c-9e9f-94bab8b18417 button.colab-df-convert');\n",
              "      buttonEl.style.display =\n",
              "        google.colab.kernel.accessAllowed ? 'block' : 'none';\n",
              "\n",
              "      async function convertToInteractive(key) {\n",
              "        const element = document.querySelector('#df-9be7341c-db5f-426c-9e9f-94bab8b18417');\n",
              "        const dataTable =\n",
              "          await google.colab.kernel.invokeFunction('convertToInteractive',\n",
              "                                                    [key], {});\n",
              "        if (!dataTable) return;\n",
              "\n",
              "        const docLinkHtml = 'Like what you see? Visit the ' +\n",
              "          '<a target=\"_blank\" href=https://colab.research.google.com/notebooks/data_table.ipynb>data table notebook</a>'\n",
              "          + ' to learn more about interactive tables.';\n",
              "        element.innerHTML = '';\n",
              "        dataTable['output_type'] = 'display_data';\n",
              "        await google.colab.output.renderOutput(dataTable, element);\n",
              "        const docLink = document.createElement('div');\n",
              "        docLink.innerHTML = docLinkHtml;\n",
              "        element.appendChild(docLink);\n",
              "      }\n",
              "    </script>\n",
              "  </div>\n",
              "\n",
              "\n",
              "    </div>\n",
              "  </div>\n"
            ],
            "application/vnd.google.colaboratory.intrinsic+json": {
              "type": "dataframe",
              "variable_name": "df",
              "summary": "{\n  \"name\": \"df\",\n  \"rows\": 0,\n  \"fields\": []\n}"
            }
          },
          "metadata": {},
          "execution_count": 8
        }
      ]
    },
    {
      "cell_type": "code",
      "source": [],
      "metadata": {
        "id": "YVnkNTxHh9IR"
      },
      "execution_count": null,
      "outputs": []
    }
  ]
}